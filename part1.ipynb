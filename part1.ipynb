{
 "cells": [
  {
   "cell_type": "code",
   "execution_count": 8,
   "metadata": {},
   "outputs": [],
   "source": [
    "import pandas as pd\n",
    "from sklearn.svm import LinearSVC\n",
    "from sklearn.ensemble import RandomForestClassifier\n",
    "from sklearn.model_selection import cross_val_score\n",
    "from sklearn.model_selection import train_test_split, cross_val_score\n",
    "from sklearn.metrics import accuracy_score\n",
    "from sklearn.preprocessing import StandardScaler\n",
    "from sklearn.feature_extraction.text import CountVectorizer"
   ]
  },
  {
   "cell_type": "code",
   "execution_count": 9,
   "metadata": {},
   "outputs": [],
   "source": [
    "trainData = pd.read_csv('train.csv')\n",
    "testData = pd.read_csv('test_without_labels.csv')\n",
    "x_train = trainData['Title']+\" \"+ trainData['Content']\n",
    "y_train = trainData['Label']\n",
    "x_test = testData['Title']+\" \"+ testData['Content']"
   ]
  },
  {
   "cell_type": "code",
   "execution_count": 10,
   "metadata": {},
   "outputs": [],
   "source": [
    "#Bag of word convertion\n",
    "vectorizer = CountVectorizer(max_features=1000)\n",
    "X_train_bow = vectorizer.fit_transform(x_train)\n",
    "X_test_bow = vectorizer.transform(x_test)\n",
    "X_train_split, X_val_split, y_train_split, y_val_split = train_test_split(\n",
    "    X_train_bow, y_train, test_size=0.2, random_state=42\n",
    ")"
   ]
  },
  {
   "cell_type": "code",
   "execution_count": 11,
   "metadata": {},
   "outputs": [
    {
     "name": "stdout",
     "output_type": "stream",
     "text": [
      "          Id      Predicted\n",
      "0          1  Entertainment\n",
      "1          2       Business\n",
      "2          3  Entertainment\n",
      "3          4  Entertainment\n",
      "4          5  Entertainment\n",
      "...      ...            ...\n",
      "47907  47908     Technology\n",
      "47908  47909  Entertainment\n",
      "47909  47910     Technology\n",
      "47910  47911       Business\n",
      "47911  47912     Technology\n",
      "\n",
      "[47912 rows x 2 columns]\n",
      "5-Fold Cross Validation Accuracy SVM: 88.73%\n"
     ]
    }
   ],
   "source": [
    "#SVM\n",
    "svm_model = LinearSVC(random_state=42,max_iter=2000)\n",
    "svm_model.fit(X_train_split, y_train_split)\n",
    "y_test_pred = svm_model.predict(X_test_bow)\n",
    "output = pd.DataFrame({\n",
    "    'Id': range(1, len(y_test_pred) + 1),\n",
    "    'Predicted': y_test_pred\n",
    "})\n",
    "print(output)\n",
    "accuracy = cross_val_score(svm_model, X_val_split, y_val_split, cv=5, scoring='accuracy')\n",
    "mean_accuracy_percent = accuracy.mean()\n",
    "mean_accuracy_percent = mean_accuracy_percent.item()*100\n",
    "print(f\"5-Fold Cross Validation Accuracy SVM: {mean_accuracy_percent:.2f}%\")"
   ]
  },
  {
   "cell_type": "code",
   "execution_count": 12,
   "metadata": {},
   "outputs": [
    {
     "name": "stdout",
     "output_type": "stream",
     "text": [
      "          Id      Predicted\n",
      "0          1  Entertainment\n",
      "1          2       Business\n",
      "2          3  Entertainment\n",
      "3          4  Entertainment\n",
      "4          5  Entertainment\n",
      "...      ...            ...\n",
      "47907  47908     Technology\n",
      "47908  47909  Entertainment\n",
      "47909  47910     Technology\n",
      "47910  47911     Technology\n",
      "47911  47912     Technology\n",
      "\n",
      "[47912 rows x 2 columns]\n",
      "5-Fold Cross Validation Accuracy Random Forest: 88.37%\n"
     ]
    }
   ],
   "source": [
    "#RandomForest\n",
    "RFModel = RandomForestClassifier(n_estimators=50 ,max_features='sqrt',n_jobs=-1, random_state=42)\n",
    "RFModel.fit(X_train_split, y_train_split)\n",
    "y_test_pred_RFModel = RFModel.predict(X_test_bow)\n",
    "output = pd.DataFrame({\n",
    "    'Id': range(1, len(y_test_pred_RFModel) + 1),\n",
    "    'Predicted': y_test_pred_RFModel\n",
    "})\n",
    "print(output)\n",
    "accuracy = cross_val_score(RFModel, X_val_split, y_val_split, cv=5, scoring='accuracy')\n",
    "mean_accuracy_percent = accuracy.mean()\n",
    "mean_accuracy_percent = mean_accuracy_percent.item()*100\n",
    "print(f\"5-Fold Cross Validation Accuracy Random Forest: {mean_accuracy_percent:.2f}%\")"
   ]
  }
 ],
 "metadata": {
  "kernelspec": {
   "display_name": "Python 3",
   "language": "python",
   "name": "python3"
  },
  "language_info": {
   "codemirror_mode": {
    "name": "ipython",
    "version": 3
   },
   "file_extension": ".py",
   "mimetype": "text/x-python",
   "name": "python",
   "nbconvert_exporter": "python",
   "pygments_lexer": "ipython3",
   "version": "3.13.0"
  }
 },
 "nbformat": 4,
 "nbformat_minor": 2
}
